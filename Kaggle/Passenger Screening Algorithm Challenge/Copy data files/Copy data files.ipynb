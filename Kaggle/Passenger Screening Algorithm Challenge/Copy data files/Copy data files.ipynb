{
 "cells": [
  {
   "cell_type": "code",
   "execution_count": 1,
   "metadata": {
    "collapsed": false
   },
   "outputs": [],
   "source": [
    "import pandas as pd\n",
    "import os\n",
    "import sys\n",
    "import shutil\n",
    "\n",
    "path = 'Z:\\\\MachineLearning\\\\Kaggle\\\\170812 Passenger\\\\Data\\\\'\n",
    "fname = 'stage1_sample_submission.csv'\n",
    "extention = '.a3daps'\n",
    "\n",
    "df = pd.read_csv(path + fname)\n",
    "\n",
    "df2 = df[df['Id'].str.contains('Zone17', na=False)]    # Create data frame extracting rows including 'Zone 17'\n",
    "df3 = df2['Id']    # Create data frame extracting columns including 'Id'\n",
    "df4 = df3.str.replace('_Zone17',extention)    # Replace '_Zone17' with '.a3daps'\n",
    "df5 = df4.reset_index(drop=True)              # Reset index\n",
    "\n",
    "# Check existence of file\n",
    "for val in range(0, len(df5.index)):\n",
    "    file = path + 'stage1_a3daps\\\\' + df5.ix[val,0]\n",
    "    ret = os.path.exists(file)\n",
    "    \n",
    "    if ret != True :\n",
    "        print ('%s is not found.' % file)\n",
    "        sys.exit()\n",
    "\n",
    "#　Copy data files\n",
    "for val in range(0, len(df5.index)):\n",
    "    shutil.copy2(path + 'stage1_a3daps\\\\' + df5.ix[val,0], path + 'copy_from_stage1_a3daps\\\\' + df5.ix[val,0])"
   ]
  }
 ],
 "metadata": {
  "anaconda-cloud": {},
  "kernelspec": {
   "display_name": "Python [default]",
   "language": "python",
   "name": "python3"
  },
  "language_info": {
   "codemirror_mode": {
    "name": "ipython",
    "version": 3
   },
   "file_extension": ".py",
   "mimetype": "text/x-python",
   "name": "python",
   "nbconvert_exporter": "python",
   "pygments_lexer": "ipython3",
   "version": "3.5.2"
  }
 },
 "nbformat": 4,
 "nbformat_minor": 1
}
